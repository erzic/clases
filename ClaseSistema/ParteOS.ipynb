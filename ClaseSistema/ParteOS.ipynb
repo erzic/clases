{
 "cells": [
  {
   "cell_type": "code",
   "execution_count": 29,
   "metadata": {},
   "outputs": [],
   "source": [
    "import os\n",
    "from datetime import datetime"
   ]
  },
  {
   "cell_type": "code",
   "execution_count": 3,
   "metadata": {},
   "outputs": [
    {
     "name": "stdout",
     "output_type": "stream",
     "text": [
      "C:\\Users\\Erick\\ClaseSistema\n"
     ]
    }
   ],
   "source": [
    "print(os.getcwd()) # current working directory"
   ]
  },
  {
   "cell_type": "code",
   "execution_count": 4,
   "metadata": {},
   "outputs": [],
   "source": [
    "os.chdir(\"funciones\")"
   ]
  },
  {
   "cell_type": "code",
   "execution_count": 5,
   "metadata": {},
   "outputs": [],
   "source": [
    "import saludo"
   ]
  },
  {
   "cell_type": "code",
   "execution_count": 6,
   "metadata": {},
   "outputs": [
    {
     "name": "stdout",
     "output_type": "stream",
     "text": [
      "Hola!!!\n"
     ]
    }
   ],
   "source": [
    "saludo.saludo()"
   ]
  },
  {
   "cell_type": "code",
   "execution_count": 7,
   "metadata": {},
   "outputs": [
    {
     "data": {
      "text/plain": [
       "['.ipynb_checkpoints',\n",
       " 'archivo1.txt',\n",
       " 'archivo2.txt',\n",
       " 'archivo3.txt',\n",
       " 'saludo.py',\n",
       " '__pycache__']"
      ]
     },
     "execution_count": 7,
     "metadata": {},
     "output_type": "execute_result"
    }
   ],
   "source": [
    "os.listdir()"
   ]
  },
  {
   "cell_type": "code",
   "execution_count": 8,
   "metadata": {},
   "outputs": [],
   "source": [
    "os.mkdir(\"CreadoPython\")"
   ]
  },
  {
   "cell_type": "code",
   "execution_count": 9,
   "metadata": {},
   "outputs": [
    {
     "ename": "FileNotFoundError",
     "evalue": "[WinError 3] The system cannot find the path specified: 'directorio1/CreadoPython'",
     "output_type": "error",
     "traceback": [
      "\u001b[1;31m---------------------------------------------------------------------------\u001b[0m",
      "\u001b[1;31mFileNotFoundError\u001b[0m                         Traceback (most recent call last)",
      "\u001b[1;32m<ipython-input-9-d203a908876f>\u001b[0m in \u001b[0;36m<module>\u001b[1;34m\u001b[0m\n\u001b[1;32m----> 1\u001b[1;33m \u001b[0mos\u001b[0m\u001b[1;33m.\u001b[0m\u001b[0mmkdir\u001b[0m\u001b[1;33m(\u001b[0m\u001b[1;34m\"directorio1/CreadoPython\"\u001b[0m\u001b[1;33m)\u001b[0m\u001b[1;33m\u001b[0m\u001b[1;33m\u001b[0m\u001b[0m\n\u001b[0m",
      "\u001b[1;31mFileNotFoundError\u001b[0m: [WinError 3] The system cannot find the path specified: 'directorio1/CreadoPython'"
     ]
    }
   ],
   "source": [
    "os.mkdir(\"directorio1/CreadoPython\")"
   ]
  },
  {
   "cell_type": "code",
   "execution_count": 10,
   "metadata": {},
   "outputs": [],
   "source": [
    "os.makedirs(\"directorio1/CreadoPython2\")"
   ]
  },
  {
   "cell_type": "code",
   "execution_count": 17,
   "metadata": {},
   "outputs": [],
   "source": [
    "os.makedirs(\"directorio1/CreadoPython3\")"
   ]
  },
  {
   "cell_type": "code",
   "execution_count": 19,
   "metadata": {},
   "outputs": [],
   "source": [
    "os.rmdir(\"directorio1/CreadoPython3\")"
   ]
  },
  {
   "cell_type": "code",
   "execution_count": 21,
   "metadata": {},
   "outputs": [],
   "source": [
    "os.removedirs(\"directorio1/CreadoPython2\")"
   ]
  },
  {
   "cell_type": "code",
   "execution_count": 24,
   "metadata": {},
   "outputs": [],
   "source": []
  },
  {
   "cell_type": "code",
   "execution_count": 23,
   "metadata": {},
   "outputs": [],
   "source": [
    "os.rename(\"archivo1.txt\", \"cambio1.txt\")\n",
    "os.rename(\"cambio1.text\", \"cambio1.txt\") # porque me equivoqué xd"
   ]
  },
  {
   "cell_type": "code",
   "execution_count": 31,
   "metadata": {},
   "outputs": [
    {
     "name": "stdout",
     "output_type": "stream",
     "text": [
      "1616046696.4373946\n",
      "2021-03-17 23:51:36.437395\n"
     ]
    }
   ],
   "source": [
    "fecha_modificacion = os.stat(\"cambio1.txt\").st_mtime\n",
    "print(fecha_modificacion)\n",
    "\n",
    "print(datetime.fromtimestamp(fecha_modificacion))\n"
   ]
  },
  {
   "cell_type": "code",
   "execution_count": 43,
   "metadata": {},
   "outputs": [
    {
     "name": "stdout",
     "output_type": "stream",
     "text": [
      "Directorio actual: C:\\Users\\Erick\\ClaseSistema\\funciones\n",
      "Directorios: ['.ipynb_checkpoints', 'CreadoPython', '__pycache__']\n",
      "Archivos: ['archivo2.txt', 'archivo3.txt', 'cambio1.txt', 'saludo.py']\n",
      "\n",
      "Directorio actual: C:\\Users\\Erick\\ClaseSistema\\funciones\\.ipynb_checkpoints\n",
      "Directorios: []\n",
      "Archivos: []\n",
      "\n",
      "Directorio actual: C:\\Users\\Erick\\ClaseSistema\\funciones\\CreadoPython\n",
      "Directorios: []\n",
      "Archivos: []\n",
      "\n",
      "Directorio actual: C:\\Users\\Erick\\ClaseSistema\\funciones\\__pycache__\n",
      "Directorios: []\n",
      "Archivos: ['saludo.cpython-37.pyc']\n",
      "\n"
     ]
    }
   ],
   "source": [
    "for dirpath, dirname, filename in os.walk(os.getcwd()):\n",
    "    print(f\"Directorio actual: {dirpath}\\nDirectorios: {dirname}\\nArchivos: {filename}\")\n",
    "    print()"
   ]
  },
  {
   "cell_type": "code",
   "execution_count": 60,
   "metadata": {},
   "outputs": [],
   "source": [
    "parte1 = \"CreadoPython\"\n",
    "parte2 = \"NuevoFolder1\"\n",
    "\n",
    "os.mkdir(os.path.join(parte1, parte2))"
   ]
  },
  {
   "cell_type": "code",
   "execution_count": 62,
   "metadata": {},
   "outputs": [
    {
     "data": {
      "text/plain": [
       "True"
      ]
     },
     "execution_count": 62,
     "metadata": {},
     "output_type": "execute_result"
    }
   ],
   "source": [
    "os.path.isdir(\"CreadoPython\")"
   ]
  },
  {
   "cell_type": "code",
   "execution_count": 65,
   "metadata": {},
   "outputs": [
    {
     "data": {
      "text/plain": [
       "False"
      ]
     },
     "execution_count": 65,
     "metadata": {},
     "output_type": "execute_result"
    }
   ],
   "source": [
    "os.path.isfile(\"archivo2\")"
   ]
  },
  {
   "cell_type": "code",
   "execution_count": null,
   "metadata": {},
   "outputs": [],
   "source": []
  }
 ],
 "metadata": {
  "kernelspec": {
   "display_name": "Python 3",
   "language": "python",
   "name": "python3"
  },
  "language_info": {
   "codemirror_mode": {
    "name": "ipython",
    "version": 3
   },
   "file_extension": ".py",
   "mimetype": "text/x-python",
   "name": "python",
   "nbconvert_exporter": "python",
   "pygments_lexer": "ipython3",
   "version": "3.7.4"
  }
 },
 "nbformat": 4,
 "nbformat_minor": 2
}
