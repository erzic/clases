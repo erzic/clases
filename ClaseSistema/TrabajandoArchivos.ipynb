{
 "cells": [
  {
   "cell_type": "code",
   "execution_count": 1,
   "metadata": {},
   "outputs": [],
   "source": [
    "import os"
   ]
  },
  {
   "cell_type": "code",
   "execution_count": 7,
   "metadata": {},
   "outputs": [
    {
     "name": "stdout",
     "output_type": "stream",
     "text": [
      "Soy un texto de prueba\n",
      "Línea 2\n",
      "Línea 3\n",
      "Línea 4\n",
      "Línea 5\n"
     ]
    }
   ],
   "source": [
    "f = open(\"prueba.txt\", mode = 'r', encoding = \"utf-8\") \n",
    "print(f.read())\n",
    "f.close()"
   ]
  },
  {
   "cell_type": "code",
   "execution_count": 8,
   "metadata": {},
   "outputs": [
    {
     "name": "stdout",
     "output_type": "stream",
     "text": [
      "Soy un texto de prueba\n",
      "Línea 2\n",
      "Línea 3\n",
      "Línea 4\n",
      "Línea 5\n"
     ]
    }
   ],
   "source": [
    "with open(\"prueba.txt\", mode = 'r', encoding = \"utf-8\") as f:\n",
    "    print(f.read())"
   ]
  },
  {
   "cell_type": "code",
   "execution_count": 17,
   "metadata": {},
   "outputs": [
    {
     "name": "stdout",
     "output_type": "stream",
     "text": [
      "Soy un texto de prueba\n",
      "\n",
      "Línea 2\n",
      "\n",
      "Línea 3\n",
      "\n",
      "Línea 4\n",
      "\n",
      "Línea 5\n"
     ]
    }
   ],
   "source": [
    "with open(\"prueba.txt\", mode = 'r', encoding = \"utf-8\") as f:\n",
    "    contenido = f.readline()\n",
    "    \n",
    "    while contenido != '':\n",
    "        print(contenido)\n",
    "        contenido = f.readline()"
   ]
  },
  {
   "cell_type": "code",
   "execution_count": 22,
   "metadata": {},
   "outputs": [
    {
     "name": "stdout",
     "output_type": "stream",
     "text": [
      "['Soy un texto de prueba\\n', 'Línea 2\\n', 'Línea 3\\n', 'Línea 4\\n', 'Línea 5']\n"
     ]
    }
   ],
   "source": [
    "with open(\"prueba.txt\", mode = 'r', encoding = \"utf-8\") as f:\n",
    "    print(f.readlines())"
   ]
  },
  {
   "cell_type": "code",
   "execution_count": 23,
   "metadata": {},
   "outputs": [
    {
     "name": "stdout",
     "output_type": "stream",
     "text": [
      "Soy un texto de prueba\n",
      "\n",
      "Línea 2\n",
      "\n",
      "Línea 3\n",
      "\n",
      "Línea 4\n",
      "\n",
      "Línea 5\n"
     ]
    }
   ],
   "source": [
    "with open(\"prueba.txt\", mode = 'r', encoding = \"utf-8\") as f:\n",
    "    for line in f:\n",
    "        print(line)"
   ]
  },
  {
   "cell_type": "code",
   "execution_count": 25,
   "metadata": {},
   "outputs": [
    {
     "name": "stdout",
     "output_type": "stream",
     "text": [
      "Soy un texto\n",
      " de prueba\n",
      "L\n"
     ]
    }
   ],
   "source": [
    "with open(\"prueba.txt\", mode = 'r', encoding = \"utf-8\") as f:\n",
    "    print(f.read(12))\n",
    "    \n",
    "    print(f.read(12))"
   ]
  },
  {
   "cell_type": "code",
   "execution_count": 26,
   "metadata": {},
   "outputs": [
    {
     "name": "stdout",
     "output_type": "stream",
     "text": [
      "Soy un texto\n",
      "Soy un texto\n"
     ]
    }
   ],
   "source": [
    "with open(\"prueba.txt\", mode = 'r', encoding = \"utf-8\") as f:\n",
    "    print(f.read(12))\n",
    "    \n",
    "    f.seek(0)\n",
    "    \n",
    "    print(f.read(12))"
   ]
  },
  {
   "cell_type": "code",
   "execution_count": 36,
   "metadata": {},
   "outputs": [],
   "source": [
    "with open(\"prueba2.txt\", mode = \"w\") as f:\n",
    "    f.write(\"Otro Texto\")\n",
    "    \n",
    "    f.seek(0)\n",
    "    \n",
    "    f.write(\"R\")"
   ]
  },
  {
   "cell_type": "code",
   "execution_count": 38,
   "metadata": {},
   "outputs": [],
   "source": [
    "with open(\"prueba2.txt\", mode = \"a\") as f:\n",
    "    f.write(\"\\n\")\n",
    "    f.write(\"Teeeeexto\")\n",
    "    \n",
    "    f.seek(5)\n",
    "    \n",
    "    f.write(\"A\")\n",
    "    \n",
    "    "
   ]
  },
  {
   "cell_type": "code",
   "execution_count": 39,
   "metadata": {},
   "outputs": [],
   "source": [
    "with open(\"prueba.txt\", mode = \"r\", encoding = \"utf-8\") as rf:\n",
    "    with open(\"prueba_copy.txt\", mode = \"w\", encoding = \"utf-8\") as wf:\n",
    "        for line in rf:\n",
    "            wf.write(line)"
   ]
  },
  {
   "cell_type": "code",
   "execution_count": 41,
   "metadata": {},
   "outputs": [],
   "source": [
    "with open(\"memingo.jpg\", mode = \"rb\") as rf:\n",
    "    with open(\"memingo_copy.jpg\", mode = \"wb\") as wf:\n",
    "        for line in rf:\n",
    "            wf.write(line)"
   ]
  },
  {
   "cell_type": "code",
   "execution_count": null,
   "metadata": {},
   "outputs": [],
   "source": []
  }
 ],
 "metadata": {
  "kernelspec": {
   "display_name": "Python 3",
   "language": "python",
   "name": "python3"
  },
  "language_info": {
   "codemirror_mode": {
    "name": "ipython",
    "version": 3
   },
   "file_extension": ".py",
   "mimetype": "text/x-python",
   "name": "python",
   "nbconvert_exporter": "python",
   "pygments_lexer": "ipython3",
   "version": "3.7.4"
  }
 },
 "nbformat": 4,
 "nbformat_minor": 2
}
