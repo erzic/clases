{
 "cells": [
  {
   "cell_type": "code",
   "execution_count": null,
   "metadata": {},
   "outputs": [],
   "source": [
    "# atributo: son variables propias de una instancia\n",
    "# método: son funciones dentro de una clase"
   ]
  },
  {
   "cell_type": "code",
   "execution_count": 10,
   "metadata": {},
   "outputs": [
    {
     "name": "stdout",
     "output_type": "stream",
     "text": [
      "<__main__.Alumno object at 0x00EE55D0>\n",
      "Erick\n",
      "100\n",
      "erick@esen.com\n",
      "Ramiro\n",
      "1000\n",
      "ram@esen.com\n"
     ]
    }
   ],
   "source": [
    "class Alumno():\n",
    "    pass\n",
    "\n",
    "alumno_1 = Alumno()\n",
    "print(alumno_1)\n",
    "\n",
    "alumno_1.first = \"Erick\"\n",
    "alumno_1.last = \"Barrios\"\n",
    "alumno_1.mail = \"erick@esen.com\"\n",
    "alumno_1.pay = 100\n",
    "\n",
    "print(alumno_1.first)\n",
    "print(alumno_1.pay)\n",
    "\n",
    "print(alumno_1.mail)\n",
    "\n",
    "alumno_2 = Alumno()\n",
    "alumno_2.first = \"Ramiro\"\n",
    "alumno_2.last = \"Rios\"\n",
    "alumno_2.mail = \"ram@esen.com\"\n",
    "alumno_2.pay = 1000\n",
    "\n",
    "print(alumno_2.first)\n",
    "print(alumno_2.pay)\n",
    "print(alumno_2.mail)"
   ]
  },
  {
   "cell_type": "code",
   "execution_count": 21,
   "metadata": {},
   "outputs": [
    {
     "name": "stdout",
     "output_type": "stream",
     "text": [
      "Erick@esen.com\n",
      "Ramiro@esen.com\n",
      "Erick Barrios\n"
     ]
    }
   ],
   "source": [
    "class Alumno():\n",
    "    \n",
    "    def __init__(self, first, last, pay):\n",
    "        self.first = first\n",
    "        self.last = last\n",
    "        self.mail = f\"{first}@esen.com\"\n",
    "        self.pay = pay\n",
    "    \n",
    "    def fullname(self):\n",
    "        return f\"{self.first} {self.last}\"\n",
    "\n",
    "alumno_1 = Alumno(first = \"Erick\", last = \"Barrios\", pay = 100)\n",
    "alumno_2= Alumno(first = \"Ramiro\", last = \"Rios\", pay = 1000)\n",
    "\n",
    "print(alumno_1.mail)\n",
    "print(alumno_2.mail)\n",
    "print(alumno_1.fullname())"
   ]
  },
  {
   "cell_type": "code",
   "execution_count": 41,
   "metadata": {},
   "outputs": [
    {
     "name": "stdout",
     "output_type": "stream",
     "text": [
      "2000\n",
      "2400\n",
      "7\n"
     ]
    }
   ],
   "source": [
    "class Alumno():\n",
    "    \n",
    "    aumento_ = 1.04\n",
    "    n_alumnos = 0\n",
    "    \n",
    "    def __init__(self, first, last, pay): # dunder methods double underscore doble guion bajo\n",
    "        self.first = first\n",
    "        self.last = last\n",
    "        self.mail = f\"{first}@esen.com\"\n",
    "        self.pay = pay\n",
    "        Alumno.n_alumnos += 1   \n",
    "    \n",
    "    def fullname(self):\n",
    "        return f\"{self.first} {self.last}\"\n",
    "    \n",
    "    def aumento(self):\n",
    "        self.pay = int(self.pay * self.aumento_) # Alumno o el nombre de la clase\n",
    "\n",
    "alumno_1 = Alumno(first = \"Erick\", last = \"Barrios\", pay = 5000)\n",
    "alumno_2 = Alumno(first = \"Ramiro\", last = \"Rios\", pay = 2000)\n",
    "alumno_3 = Alumno(first = \"Ramiro\", last = \"Rios\", pay = 2000)\n",
    "alumno_4 = Alumno(first = \"Ramiro\", last = \"Rios\", pay = 2000)\n",
    "alumno_5 = Alumno(first = \"Ramiro\", last = \"Rios\", pay = 2000)\n",
    "alumno_6 = Alumno(first = \"Ramiro\", last = \"Rios\", pay = 2000)\n",
    "alumno_7 = Alumno(first = \"Ramiro\", last = \"Rios\", pay = 2000)\n",
    "\n",
    "\n",
    "# Alumno.aumento_ = 1.1\n",
    "# print(alumno_1.pay)\n",
    "# alumno_1.aumento()\n",
    "# print(alumno_1.pay)\n",
    "\n",
    "alumno_2.aumento_ = 1.2\n",
    "print(alumno_2.pay)\n",
    "alumno_2.aumento()\n",
    "print(alumno_2.pay)\n",
    "\n",
    "print(Alumno.n_alumnos)"
   ]
  },
  {
   "cell_type": "code",
   "execution_count": 36,
   "metadata": {},
   "outputs": [
    {
     "name": "stdout",
     "output_type": "stream",
     "text": [
      "{'first': 'Erick', 'last': 'Barrios', 'mail': 'Erick@esen.com', 'pay': 5000}\n"
     ]
    }
   ],
   "source": [
    "print(alumno_1.__dict__)"
   ]
  },
  {
   "cell_type": "code",
   "execution_count": 37,
   "metadata": {},
   "outputs": [
    {
     "name": "stdout",
     "output_type": "stream",
     "text": [
      "{'first': 'Ramiro', 'last': 'Rios', 'mail': 'Ramiro@esen.com', 'pay': 2400, 'aumento_': 1.2}\n"
     ]
    }
   ],
   "source": [
    "print(alumno_2.__dict__)"
   ]
  },
  {
   "cell_type": "markdown",
   "metadata": {},
   "source": [
    "## Tipos de métodos\n",
    "\n",
    "- Regular methods: obtienen la instancia como argumento de manera automática\n",
    "- Class methods: obtienen la clase como argumento de manera automática\n",
    "- Static methods: no obtienen argumentos de forma automática"
   ]
  },
  {
   "cell_type": "code",
   "execution_count": 5,
   "metadata": {},
   "outputs": [
    {
     "name": "stdout",
     "output_type": "stream",
     "text": [
      "1.04 1.04\n",
      "1.1 1.1\n"
     ]
    }
   ],
   "source": [
    "class Alumno():\n",
    "    \n",
    "    aumento_ = 1.04\n",
    "    n_alumnos = 0\n",
    "    \n",
    "    def __init__(self, first, last, pay): # dunder methods double underscore doble guion bajo\n",
    "        self.first = first\n",
    "        self.last = last\n",
    "        self.mail = f\"{first}@esen.com\"\n",
    "        self.pay = pay\n",
    "    \n",
    "    def fullname(self):\n",
    "        return f\"{self.first} {self.last}\"\n",
    "    \n",
    "    def aumento(self):\n",
    "        self.pay = int(self.pay * self.aumento_) # Alumno o el nombre de la clase\n",
    "    \n",
    "    @classmethod\n",
    "    def set_aumento(cls, aumento):\n",
    "        cls.aumento_ = aumento\n",
    "        \n",
    "alumno_1 = Alumno(\"Erick\", \"Barrios\", 500)\n",
    "alumno_2 = Alumno(\"Ramiro\", \"Rios\", 400)\n",
    "\n",
    "print(alumno_1.aumento_, alumno_2.aumento_)\n",
    "\n",
    "Alumno.set_aumento(1.10)\n",
    "print(alumno_1.aumento_, alumno_2.aumento_)"
   ]
  },
  {
   "cell_type": "code",
   "execution_count": 26,
   "metadata": {},
   "outputs": [
    {
     "data": {
      "text/plain": [
       "False"
      ]
     },
     "execution_count": 26,
     "metadata": {},
     "output_type": "execute_result"
    }
   ],
   "source": [
    "# constructores con métodos de clase\n",
    "class Alumno():\n",
    "    \n",
    "    aumento_ = 1.04\n",
    "    n_alumnos = 0\n",
    "    \n",
    "    def __init__(self, first, last, pay): # dunder methods double underscore doble guion bajo\n",
    "        self.first = first\n",
    "        self.last = last\n",
    "        self.mail = f\"{first}@esen.com\"\n",
    "        self.pay = pay\n",
    "    \n",
    "    def fullname(self):\n",
    "        return f\"{self.first} {self.last}\"\n",
    "    \n",
    "    def aumento(self):\n",
    "        self.pay = int(self.pay * self.aumento_) # Alumno o el nombre de la clase\n",
    "    \n",
    "    @classmethod\n",
    "    def set_aumento(cls, aumento):\n",
    "        cls.aumento_ = aumento\n",
    "        \n",
    "    @classmethod\n",
    "    def alum_str(cls, string):\n",
    "        first, last, pay = string.split(\"-\")\n",
    "        return cls(first, last, pay)\n",
    "    \n",
    "    @staticmethod\n",
    "    def mes_vacacion(mes):\n",
    "        if mes in [\"Mayo\", \"Agosto\", \"Diciembre\", 5, 8, 12]:\n",
    "            return True\n",
    "        else:\n",
    "            return False\n",
    "    \n",
    "\n",
    "alumno_1_str = \"Erick-Barrios-5000\"\n",
    "alumno_2_str = \"Ramiro-Ríos-6000\"\n",
    "\n",
    "alumno_1 = Alumno.alum_str(alumno_1_str)\n",
    "alumno_1.mail\n",
    "alumno_1.mes_vacacion(1)"
   ]
  },
  {
   "cell_type": "markdown",
   "metadata": {},
   "source": [
    "## Inheritance (Herencia)\n",
    "\n",
    "- Nos permite heredar atributos y métodos de una clase padre\n",
    "- Podemos obtener toda la funcionalidad de la clase padre, además de poder sobreescribir esta clase padre sin afectarla"
   ]
  },
  {
   "cell_type": "code",
   "execution_count": 28,
   "metadata": {},
   "outputs": [
    {
     "data": {
      "text/plain": [
       "'Superate'"
      ]
     },
     "execution_count": 28,
     "metadata": {},
     "output_type": "execute_result"
    }
   ],
   "source": [
    "class Alumno():\n",
    "    \n",
    "    aumento_ = 1.04\n",
    "    n_alumnos = 0\n",
    "    \n",
    "    def __init__(self, first, last, pay): # dunder methods double underscore doble guion bajo\n",
    "        self.first = first\n",
    "        self.last = last\n",
    "        self.mail = f\"{first}@esen.com\"\n",
    "        self.pay = pay\n",
    "    \n",
    "    def fullname(self):\n",
    "        return f\"{self.first} {self.last}\"\n",
    "    \n",
    "    def aumento(self):\n",
    "        self.pay = int(self.pay * self.aumento_) # Alumno o el nombre de la clase\n",
    "\n",
    "        \n",
    "class Becado(Alumno):\n",
    "    def __init__(self, first, last, pay, org):\n",
    "        super().__init__(first, last, pay)\n",
    "        self.org = org\n",
    "        \n",
    "        \n",
    "becado_1 = Becado(\"Jorge\", \"Eche\", 1000, \"Superate\")\n",
    "alumno_1 = Alumno(\"Erick\", \"Barr\", 100)\n",
    "becado_1.org\n",
    "\n",
    "# method resolution order"
   ]
  },
  {
   "cell_type": "code",
   "execution_count": 36,
   "metadata": {},
   "outputs": [
    {
     "name": "stdout",
     "output_type": "stream",
     "text": [
      "True True\n",
      "True False\n"
     ]
    }
   ],
   "source": [
    "# isinstance(instancia, Clase) True si la instancia fue creada a parte de la Clase; False, de lo contrario\n",
    "# issubclass(hijo, padre) True si clase hijo hereda de clase padre; False, de lo contrario \n",
    "\n",
    "print(isinstance(alumno_1, Alumno), isinstance(becado_1, Becado))\n",
    "print(isinstance(becado_1, Alumno), isinstance(alumno_1, Becado))\n",
    "\n"
   ]
  },
  {
   "cell_type": "code",
   "execution_count": 37,
   "metadata": {},
   "outputs": [
    {
     "name": "stdout",
     "output_type": "stream",
     "text": [
      "True\n",
      "False\n"
     ]
    }
   ],
   "source": [
    "print(issubclass(Becado, Alumno))\n",
    "print(issubclass(Alumno, Becado))"
   ]
  },
  {
   "cell_type": "code",
   "execution_count": null,
   "metadata": {},
   "outputs": [],
   "source": []
  }
 ],
 "metadata": {
  "kernelspec": {
   "display_name": "Python 3",
   "language": "python",
   "name": "python3"
  },
  "language_info": {
   "codemirror_mode": {
    "name": "ipython",
    "version": 3
   },
   "file_extension": ".py",
   "mimetype": "text/x-python",
   "name": "python",
   "nbconvert_exporter": "python",
   "pygments_lexer": "ipython3",
   "version": "3.7.4"
  }
 },
 "nbformat": 4,
 "nbformat_minor": 2
}
