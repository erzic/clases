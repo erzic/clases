{
 "cells": [
  {
   "cell_type": "markdown",
   "metadata": {},
   "source": [
    "# Resolución de dudas\n",
    "\n",
    "\n",
    "1. Diferencia entre \"mandar a llamar\" y el \"print\"\n",
    "2. Variables\n",
    "3. Tipos de datos\n",
    "4. Usos"
   ]
  },
  {
   "cell_type": "code",
   "execution_count": 1,
   "metadata": {},
   "outputs": [
    {
     "data": {
      "text/plain": [
       "'Este se muestra gracias al display'"
      ]
     },
     "metadata": {},
     "output_type": "display_data"
    },
    {
     "name": "stdout",
     "output_type": "stream",
     "text": [
      "Este se muestra gracias al print\n"
     ]
    },
    {
     "data": {
      "text/plain": [
       "'Este texto se va a mostrar'"
      ]
     },
     "execution_count": 1,
     "metadata": {},
     "output_type": "execute_result"
    }
   ],
   "source": [
    "display('Este se muestra gracias al display')\n",
    "print('Este se muestra gracias al print')\n",
    "'Este no se mostratá de ninguna forma'\n",
    "'Este texto se va a mostrar'"
   ]
  },
  {
   "cell_type": "code",
   "execution_count": 2,
   "metadata": {},
   "outputs": [
    {
     "name": "stdout",
     "output_type": "stream",
     "text": [
      "Este un textoEste un textoEste un textoEste un textoEste un texto\n",
      "Este es un texto esto es extra\n"
     ]
    }
   ],
   "source": [
    "print('Este un texto'*5)\n",
    "print('Este es un texto' + ' esto es extra')"
   ]
  },
  {
   "cell_type": "code",
   "execution_count": 31,
   "metadata": {},
   "outputs": [
    {
     "name": "stdout",
     "output_type": "stream",
     "text": [
      "9\n",
      "5\n",
      "14\n",
      "3.5\n",
      "49\n",
      "1\n",
      "2\n",
      "5\n"
     ]
    }
   ],
   "source": [
    "# int y float\n",
    "# + - * / ** %\n",
    "\n",
    "print(7+2)\n",
    "print(7-2)\n",
    "print(7*2)\n",
    "print(7/2)\n",
    "print(7**2)\n",
    "print(7%2)\n",
    "print(12%5)\n",
    "print(23%9)"
   ]
  },
  {
   "cell_type": "code",
   "execution_count": 35,
   "metadata": {},
   "outputs": [
    {
     "name": "stdout",
     "output_type": "stream",
     "text": [
      "9.3\n",
      "5.3\n",
      "14.6\n",
      "3.65\n",
      "2.701851217221259\n",
      "1.2999999999999998\n",
      "2.3\n",
      "7.3\n"
     ]
    }
   ],
   "source": [
    "\n",
    "print(7.3+2)\n",
    "print(7.3-2)\n",
    "print(7.3*2)\n",
    "print(7.3/2)\n",
    "print(7.3**(1/2))\n",
    "print(7.3%2)\n",
    "print(7.3%5)\n",
    "print(7.3%9)"
   ]
  },
  {
   "cell_type": "code",
   "execution_count": 38,
   "metadata": {},
   "outputs": [
    {
     "data": {
      "text/plain": [
       "-2.0"
      ]
     },
     "execution_count": 38,
     "metadata": {},
     "output_type": "execute_result"
    }
   ],
   "source": [
    "1+(3*5)/(2-7)"
   ]
  },
  {
   "cell_type": "code",
   "execution_count": 44,
   "metadata": {},
   "outputs": [
    {
     "name": "stdout",
     "output_type": "stream",
     "text": [
      "1\n"
     ]
    },
    {
     "data": {
      "text/plain": [
       "True"
      ]
     },
     "execution_count": 44,
     "metadata": {},
     "output_type": "execute_result"
    }
   ],
   "source": [
    "# & -> y\n",
    "# | -> o\n",
    "\n",
    "print(int(True))\n",
    "\n",
    "True | False "
   ]
  },
  {
   "cell_type": "code",
   "execution_count": 49,
   "metadata": {},
   "outputs": [
    {
     "name": "stdout",
     "output_type": "stream",
     "text": [
      "Valor viejo:  6\n"
     ]
    },
    {
     "data": {
      "text/plain": [
       "7"
      ]
     },
     "execution_count": 49,
     "metadata": {},
     "output_type": "execute_result"
    }
   ],
   "source": [
    "x = 5\n",
    "\n",
    "x = 6\n",
    "\n",
    "print('Valor viejo: ' , x)\n",
    "\n",
    "x = x + 1\n",
    "\n",
    "x"
   ]
  },
  {
   "cell_type": "code",
   "execution_count": 54,
   "metadata": {},
   "outputs": [
    {
     "data": {
      "text/plain": [
       "'Este '"
      ]
     },
     "execution_count": 54,
     "metadata": {},
     "output_type": "execute_result"
    }
   ],
   "source": [
    "y = 'Este es un texto'\n",
    "\n",
    "y + ' esto es concatenado'\n",
    "\n",
    "y*5\n",
    "\n",
    "y[:5]"
   ]
  },
  {
   "cell_type": "code",
   "execution_count": 57,
   "metadata": {},
   "outputs": [
    {
     "name": "stdout",
     "output_type": "stream",
     "text": [
      "Dígame su nombre: Erick\n",
      "Dígame su carnet: 20156841\n",
      "{nombre} tiene como carnet {carnet}\n"
     ]
    }
   ],
   "source": [
    "nombre = input('Dígame su nombre: ')\n",
    "carnet = input('Dígame su carnet: ')\n",
    "\n",
    "print(f\"{nombre} tiene como carnet {carnet}\")"
   ]
  },
  {
   "cell_type": "code",
   "execution_count": 58,
   "metadata": {},
   "outputs": [
    {
     "name": "stdout",
     "output_type": "stream",
     "text": [
      "Erick tiene como carnet 20156841\n"
     ]
    }
   ],
   "source": [
    "print(f\"{nombre} tiene como carnet {carnet}\")\n",
    "print(nombre + ' tiene como carnet ' + carnet)"
   ]
  },
  {
   "cell_type": "code",
   "execution_count": 59,
   "metadata": {},
   "outputs": [
    {
     "data": {
      "text/plain": [
       "'\\tAcá hay un tab'"
      ]
     },
     "execution_count": 59,
     "metadata": {},
     "output_type": "execute_result"
    }
   ],
   "source": [
    "'\\tAcá hay un tab'"
   ]
  },
  {
   "cell_type": "code",
   "execution_count": 61,
   "metadata": {},
   "outputs": [
    {
     "name": "stdout",
     "output_type": "stream",
     "text": [
      "\tAcá hay un tab\n",
      "Acá hay un tab\n"
     ]
    }
   ],
   "source": [
    "print('\\tAcá hay un tab')\n",
    "print('Acá hay un tab')"
   ]
  },
  {
   "cell_type": "code",
   "execution_count": 62,
   "metadata": {},
   "outputs": [
    {
     "name": "stdout",
     "output_type": "stream",
     "text": [
      "Acá hay un tab\n",
      "Acá hay un \n",
      "tab\n"
     ]
    }
   ],
   "source": [
    "print('Acá hay un tab')\n",
    "print('Acá hay un \\ntab')"
   ]
  },
  {
   "cell_type": "code",
   "execution_count": 72,
   "metadata": {},
   "outputs": [
    {
     "name": "stdout",
     "output_type": "stream",
     "text": [
      "Esta es mi primera línea, Esta es mi segunda línea\n",
      "Esta es mi tercara línea\n"
     ]
    }
   ],
   "source": [
    "print('Esta es mi primera línea', end = ', ')\n",
    "print('Esta es mi segunda línea')\n",
    "print('Esta es mi tercara línea')"
   ]
  },
  {
   "cell_type": "code",
   "execution_count": null,
   "metadata": {},
   "outputs": [],
   "source": []
  }
 ],
 "metadata": {
  "kernelspec": {
   "display_name": "Python 3",
   "language": "python",
   "name": "python3"
  },
  "language_info": {
   "codemirror_mode": {
    "name": "ipython",
    "version": 3
   },
   "file_extension": ".py",
   "mimetype": "text/x-python",
   "name": "python",
   "nbconvert_exporter": "python",
   "pygments_lexer": "ipython3",
   "version": "3.7.4"
  }
 },
 "nbformat": 4,
 "nbformat_minor": 2
}
