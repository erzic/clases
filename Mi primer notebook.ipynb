{
 "cells": [
  {
   "cell_type": "markdown",
   "metadata": {},
   "source": [
    "# Mi primer notebook\n",
    "\n",
    "Tipos de datos\n",
    "Qué podemos hacer con cada uno\n",
    "Comparaciones"
   ]
  },
  {
   "cell_type": "code",
   "execution_count": 6,
   "metadata": {
    "scrolled": true
   },
   "outputs": [
    {
     "name": "stdout",
     "output_type": "stream",
     "text": [
      "Hello world\n"
     ]
    }
   ],
   "source": [
    "print('Hello world')"
   ]
  },
  {
   "cell_type": "code",
   "execution_count": 7,
   "metadata": {},
   "outputs": [
    {
     "data": {
      "text/plain": [
       "'Hello world'"
      ]
     },
     "execution_count": 7,
     "metadata": {},
     "output_type": "execute_result"
    }
   ],
   "source": [
    "'Hello world'"
   ]
  },
  {
   "cell_type": "code",
   "execution_count": 10,
   "metadata": {},
   "outputs": [
    {
     "data": {
      "text/plain": [
       "'Esta línea aparece gracias al display'"
      ]
     },
     "metadata": {},
     "output_type": "display_data"
    },
    {
     "data": {
      "text/plain": [
       "'Esta línea sí aparecerá'"
      ]
     },
     "execution_count": 10,
     "metadata": {},
     "output_type": "execute_result"
    }
   ],
   "source": [
    "# display('Esta línea aparece gracias al display')\n",
    "\n",
    "# 'Esta línea sí aparecerá'"
   ]
  },
  {
   "cell_type": "markdown",
   "metadata": {},
   "source": [
    "# Tipos de datos"
   ]
  },
  {
   "cell_type": "code",
   "execution_count": 12,
   "metadata": {},
   "outputs": [
    {
     "data": {
      "text/plain": [
       "10"
      ]
     },
     "metadata": {},
     "output_type": "display_data"
    },
    {
     "data": {
      "text/plain": [
       "True"
      ]
     },
     "execution_count": 12,
     "metadata": {},
     "output_type": "execute_result"
    }
   ],
   "source": [
    "'soy un string' # este es un string\n",
    "2 # soy un entero int\n",
    "5 # soy un entero int\n",
    "display(10) # soy un entero int\n",
    "\n",
    "1.5 # soy un float\n",
    "2.74 # soy un float\n",
    "\n",
    "False # soy un booleano\n",
    "True # soy un booleano"
   ]
  },
  {
   "cell_type": "code",
   "execution_count": 17,
   "metadata": {},
   "outputs": [
    {
     "data": {
      "text/plain": [
       "'string de prueba más un string de prueba'"
      ]
     },
     "execution_count": 17,
     "metadata": {},
     "output_type": "execute_result"
    }
   ],
   "source": [
    "mi_string = 'string de prueba'\n",
    "\n",
    "mi_string + ' más un string de prueba'"
   ]
  },
  {
   "cell_type": "code",
   "execution_count": 22,
   "metadata": {},
   "outputs": [
    {
     "name": "stdout",
     "output_type": "stream",
     "text": [
      "7\n",
      "3\n",
      "10\n",
      "2.5\n",
      "1\n",
      "25\n",
      "2\n"
     ]
    }
   ],
   "source": [
    "print(5+2)\n",
    "print(5-2)\n",
    "print(5*2)\n",
    "print(5/2)\n",
    "print(5%2)\n",
    "print(5**2)\n",
    "print(5//2)"
   ]
  },
  {
   "cell_type": "code",
   "execution_count": 32,
   "metadata": {},
   "outputs": [
    {
     "data": {
      "text/plain": [
       "bool"
      ]
     },
     "execution_count": 32,
     "metadata": {},
     "output_type": "execute_result"
    }
   ],
   "source": [
    "x = True\n",
    "\n",
    "type(x)"
   ]
  },
  {
   "cell_type": "code",
   "execution_count": 42,
   "metadata": {},
   "outputs": [
    {
     "data": {
      "text/plain": [
       "7"
      ]
     },
     "execution_count": 42,
     "metadata": {},
     "output_type": "execute_result"
    }
   ],
   "source": [
    "mi_variable = 5\n",
    "\n",
    "mi_variable = 6\n",
    "\n",
    "mi_variable = mi_variable + 1\n",
    "\n",
    "mi_variable"
   ]
  },
  {
   "cell_type": "code",
   "execution_count": 45,
   "metadata": {},
   "outputs": [
    {
     "name": "stdout",
     "output_type": "stream",
     "text": [
      "Introduzca su carnet: 20156841\n",
      "Introduzca su nombre: Erick Barrios\n",
      "Erick Barrios tiene como carnet 20156841\n"
     ]
    }
   ],
   "source": [
    "carnet = input('Introduzca su carnet: ')\n",
    "nombre = input('Introduzca su nombre: ')\n",
    "\n",
    "print(f\"{nombre} tiene como carnet {carnet}\")"
   ]
  },
  {
   "cell_type": "code",
   "execution_count": 48,
   "metadata": {},
   "outputs": [
    {
     "name": "stdout",
     "output_type": "stream",
     "text": [
      "\tacá tendría que haber un tab\n",
      "acá tendría que haber un tab\n"
     ]
    }
   ],
   "source": [
    "print('\\tacá tendría que haber un tab')\n",
    "print('acá tendría que haber un tab')"
   ]
  },
  {
   "cell_type": "code",
   "execution_count": 49,
   "metadata": {},
   "outputs": [
    {
     "name": "stdout",
     "output_type": "stream",
     "text": [
      "acá tendría que haber un tab\n",
      "acá tendría que \n",
      "haber un tab\n"
     ]
    }
   ],
   "source": [
    "print('acá tendría que haber un tab')\n",
    "print('acá tendría que \\nhaber un tab')"
   ]
  },
  {
   "cell_type": "markdown",
   "metadata": {},
   "source": [
    "# Ayudantía 2"
   ]
  },
  {
   "cell_type": "code",
   "execution_count": 29,
   "metadata": {},
   "outputs": [
    {
     "data": {
      "text/plain": [
       "''"
      ]
     },
     "execution_count": 29,
     "metadata": {},
     "output_type": "execute_result"
    }
   ],
   "source": [
    "string = \"este es un string, de prueba\"\n",
    "\n",
    "string_2 = \"método método\"\n",
    "\n",
    "string_num = '123456'\n",
    "\n",
    "\n",
    "string[1:11]\n",
    "\n",
    "string[-5:-1]\n",
    "\n",
    "string[5:-5]\n",
    "\n",
    "string[-5:2]\n",
    "\n",
    "string[10:2]"
   ]
  },
  {
   "cell_type": "code",
   "execution_count": 27,
   "metadata": {},
   "outputs": [
    {
     "name": "stdout",
     "output_type": "stream",
     "text": [
      "4\n",
      "-1\n",
      "0\n"
     ]
    }
   ],
   "source": [
    "print(string.find(' es '))\n",
    "\n",
    "print(string.find('x'))\n",
    "\n",
    "print(string_2.find('método'))"
   ]
  },
  {
   "cell_type": "code",
   "execution_count": 32,
   "metadata": {},
   "outputs": [
    {
     "data": {
      "text/plain": [
       "False"
      ]
     },
     "execution_count": 32,
     "metadata": {},
     "output_type": "execute_result"
    }
   ],
   "source": [
    "string_num.isnumeric()\n",
    "string_num.isalnum()\n",
    "string_num.isalpha()"
   ]
  },
  {
   "cell_type": "code",
   "execution_count": 46,
   "metadata": {},
   "outputs": [
    {
     "data": {
      "text/plain": [
       "['este es', ' un string', ' de prue;ba']"
      ]
     },
     "execution_count": 46,
     "metadata": {},
     "output_type": "execute_result"
    }
   ],
   "source": [
    "string = \"este es; un string; de prue;ba\"\n",
    "\n",
    "string_2 = \"método método\"\n",
    "\n",
    "string_num = '123456'\n",
    "\n",
    "string.split(';')\n",
    "\n",
    "string.split(';', 2)"
   ]
  },
  {
   "cell_type": "code",
   "execution_count": 47,
   "metadata": {},
   "outputs": [
    {
     "data": {
      "text/plain": [
       "'string;1;unir'"
      ]
     },
     "execution_count": 47,
     "metadata": {},
     "output_type": "execute_result"
    }
   ],
   "source": [
    "';'.join(['string', str(1), 'unir'])"
   ]
  },
  {
   "cell_type": "code",
   "execution_count": 51,
   "metadata": {},
   "outputs": [
    {
     "data": {
      "text/plain": [
       "'este es un string de prue;ba'"
      ]
     },
     "execution_count": 51,
     "metadata": {},
     "output_type": "execute_result"
    }
   ],
   "source": [
    "string = \"este es; un string; de prue;ba\"\n",
    "\n",
    "string.replace(';', '', 2)\n"
   ]
  },
  {
   "cell_type": "code",
   "execution_count": 57,
   "metadata": {},
   "outputs": [
    {
     "name": "stdout",
     "output_type": "stream",
     "text": [
      "Este es el primer print Este es el segundo print---Este es el tercer print\n"
     ]
    }
   ],
   "source": [
    "# print('Este es el primer print', end = ' ')\n",
    "# print('Este es el segundo print', end = '---')\n",
    "# print('Este es el tercer print')"
   ]
  },
  {
   "cell_type": "code",
   "execution_count": 58,
   "metadata": {},
   "outputs": [],
   "source": [
    "string_multi = '''\n",
    "string de \n",
    "varias líneas\n",
    "'''"
   ]
  },
  {
   "cell_type": "code",
   "execution_count": 60,
   "metadata": {},
   "outputs": [
    {
     "data": {
      "text/plain": [
       "'\\nstring de \\nvarias s\\n'"
      ]
     },
     "execution_count": 60,
     "metadata": {},
     "output_type": "execute_result"
    }
   ],
   "source": [
    "string_multi.replace('línea', '')"
   ]
  },
  {
   "cell_type": "code",
   "execution_count": 68,
   "metadata": {},
   "outputs": [
    {
     "data": {
      "text/plain": [
       "'1:23:20'"
      ]
     },
     "execution_count": 68,
     "metadata": {},
     "output_type": "execute_result"
    }
   ],
   "source": [
    "# Ejercicio de los segundos\n",
    "segundos_originales = 5000\n",
    "\n",
    "horas = segundos_originales//3600  # una hora tiene 3600 segundos (60*60)\n",
    "\n",
    "minutos = (segundos_originales%3600)//60\n",
    "\n",
    "segundos = segundos_originales%60\n",
    "\n",
    "':'.join([str(horas), str(minutos), str(segundos)])\n"
   ]
  },
  {
   "cell_type": "code",
   "execution_count": 79,
   "metadata": {},
   "outputs": [
    {
     "name": "stdout",
     "output_type": "stream",
     "text": [
      "esto vale $ 5\n",
      "esto vale $5\n"
     ]
    }
   ],
   "source": [
    "# concatenar con comas y +\n",
    "\n",
    "texto_1 = 'esto vale $'\n",
    "\n",
    "texto_2 = '5'\n",
    "\n",
    "\n",
    "\n",
    "coma = texto_1 + texto_2\n",
    "coma\n",
    "\n",
    "\n",
    "print(texto_1, texto_2)\n",
    "print(texto_1 + texto_2)"
   ]
  },
  {
   "cell_type": "code",
   "execution_count": null,
   "metadata": {},
   "outputs": [],
   "source": []
  }
 ],
 "metadata": {
  "kernelspec": {
   "display_name": "Python 3",
   "language": "python",
   "name": "python3"
  },
  "language_info": {
   "codemirror_mode": {
    "name": "ipython",
    "version": 3
   },
   "file_extension": ".py",
   "mimetype": "text/x-python",
   "name": "python",
   "nbconvert_exporter": "python",
   "pygments_lexer": "ipython3",
   "version": "3.7.4"
  }
 },
 "nbformat": 4,
 "nbformat_minor": 2
}
